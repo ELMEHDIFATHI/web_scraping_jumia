{
 "cells": [
  {
   "cell_type": "code",
   "execution_count": null,
   "metadata": {
    "collapsed": true
   },
   "outputs": [],
   "source": [
    "import requests\n",
    "from bs4 import BeautifulSoup\n",
    "import pandas as pd\n",
    "\n",
    "Column ={'name':[],'price':[],'url':[]}\n",
    "\n",
    "\n",
    "url = 'https://www.jumia.ma/smartphones/?page=1'\n",
    "\n",
    "r= requests.get(url)\n",
    "soup =BeautifulSoup(r.content,'html.parser')\n",
    "\n",
    "product = soup.find('div',{'class':'_paxs row _no-g_4cl-3cm-shs'})\n",
    "\n"
   ]
  }
 ],
 "metadata": {
  "kernelspec": {
   "display_name": "Python 3",
   "language": "python",
   "name": "python3"
  },
  "language_info": {
   "codemirror_mode": {
    "name": "ipython",
    "version": 2
   },
   "file_extension": ".py",
   "mimetype": "text/x-python",
   "name": "python",
   "nbconvert_exporter": "python",
   "pygments_lexer": "ipython2",
   "version": "2.7.6"
  }
 },
 "nbformat": 4,
 "nbformat_minor": 0
}
